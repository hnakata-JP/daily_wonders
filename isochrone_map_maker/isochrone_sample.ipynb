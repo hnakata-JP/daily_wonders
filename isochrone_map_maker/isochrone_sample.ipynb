{
 "cells": [
  {
   "cell_type": "code",
   "execution_count": 1,
   "id": "3551f930",
   "metadata": {},
   "outputs": [],
   "source": [
    "import numpy as np\n",
    "import pandas as pd\n",
    "import osmnx as ox\n",
    "import geopandas as gpd\n",
    "import networkx as nx\n",
    "from shapely.geometry import Point\n",
    "import folium"
   ]
  },
  {
   "cell_type": "code",
   "execution_count": 2,
   "id": "7bc55e49",
   "metadata": {},
   "outputs": [],
   "source": [
    "from isochrone import (\n",
    "    down_load_and_save_graph, get_origin_node, iso_polygon_from_nodes,\n",
    "    get_base_map, add_poly\n",
    ")"
   ]
  },
  {
   "cell_type": "code",
   "execution_count": 3,
   "id": "5c35ce3c",
   "metadata": {},
   "outputs": [],
   "source": [
    "# lat, lon = 36.44930529404897, 140.60208035544244\n",
    "# import_file_name = \"jparc_10km\"\n",
    "# output_file_name = \"jparc_10km\"\n",
    "\n",
    "# down_load_and_save_graph([lat, lon], dist=10_000, filename=f'{import_file_name}.graphml')"
   ]
  },
  {
   "cell_type": "code",
   "execution_count": 4,
   "id": "33bcce0e",
   "metadata": {},
   "outputs": [
    {
     "name": "stdout",
     "output_type": "stream",
     "text": [
      "グラフを読み込みました。ノード数: 25105\n"
     ]
    }
   ],
   "source": [
    "# lat, lon = 36.44930529404897, 140.60208035544244 # ニュートリノモニター棟\n",
    "lat, lon = 36.46346973531239, 140.5966036136302 # J-PARCドミトリー\n",
    "import_file_name = \"jparc_10km\"\n",
    "output_file_name = \"jparc_10km_walk\"\n",
    "\n",
    "G = ox.load_graphml(f\"{import_file_name}.graphml\")\n",
    "print(f\"グラフを読み込みました。ノード数: {len(G)}\")"
   ]
  },
  {
   "cell_type": "code",
   "execution_count": 5,
   "id": "95caa7b1",
   "metadata": {},
   "outputs": [],
   "source": [
    "origin, G_proj = get_origin_node(G, lat, lon)"
   ]
  },
  {
   "cell_type": "code",
   "execution_count": 6,
   "id": "850d41f2",
   "metadata": {},
   "outputs": [
    {
     "data": {
      "text/html": [
       "<div>\n",
       "<style scoped>\n",
       "    .dataframe tbody tr th:only-of-type {\n",
       "        vertical-align: middle;\n",
       "    }\n",
       "\n",
       "    .dataframe tbody tr th {\n",
       "        vertical-align: top;\n",
       "    }\n",
       "\n",
       "    .dataframe thead th {\n",
       "        text-align: right;\n",
       "    }\n",
       "</style>\n",
       "<table border=\"1\" class=\"dataframe\">\n",
       "  <thead>\n",
       "    <tr style=\"text-align: right;\">\n",
       "      <th></th>\n",
       "      <th>lat</th>\n",
       "      <th>lon</th>\n",
       "      <th>name</th>\n",
       "    </tr>\n",
       "  </thead>\n",
       "  <tbody>\n",
       "    <tr>\n",
       "      <th>0</th>\n",
       "      <td>36.460120</td>\n",
       "      <td>140.553315</td>\n",
       "      <td>パパディッシュ</td>\n",
       "    </tr>\n",
       "    <tr>\n",
       "      <th>1</th>\n",
       "      <td>36.476489</td>\n",
       "      <td>140.565794</td>\n",
       "      <td>○祐 まるすけ</td>\n",
       "    </tr>\n",
       "    <tr>\n",
       "      <th>2</th>\n",
       "      <td>36.468275</td>\n",
       "      <td>140.564828</td>\n",
       "      <td>日本料理 松臣</td>\n",
       "    </tr>\n",
       "    <tr>\n",
       "      <th>3</th>\n",
       "      <td>36.460892</td>\n",
       "      <td>140.594744</td>\n",
       "      <td>お食事処おるりば</td>\n",
       "    </tr>\n",
       "    <tr>\n",
       "      <th>4</th>\n",
       "      <td>36.492741</td>\n",
       "      <td>140.615327</td>\n",
       "      <td>海鮮茶屋 濱膳</td>\n",
       "    </tr>\n",
       "  </tbody>\n",
       "</table>\n",
       "</div>"
      ],
      "text/plain": [
       "         lat         lon      name\n",
       "0  36.460120  140.553315   パパディッシュ\n",
       "1  36.476489  140.565794   ○祐 まるすけ\n",
       "2  36.468275  140.564828   日本料理 松臣\n",
       "3  36.460892  140.594744  お食事処おるりば\n",
       "4  36.492741  140.615327   海鮮茶屋 濱膳"
      ]
     },
     "execution_count": 6,
     "metadata": {},
     "output_type": "execute_result"
    }
   ],
   "source": [
    "df = pd.read_csv(\"jparc_food.csv\")\n",
    "df.head()"
   ]
  },
  {
   "cell_type": "code",
   "execution_count": null,
   "id": "221a39f9",
   "metadata": {},
   "outputs": [],
   "source": [
    "# --- 2) Dijkstra（距離: m） ---\n",
    "speed_m_per_min = 60\n",
    "thresh_5m  = 5  * speed_m_per_min\n",
    "thresh_10m = 10 * speed_m_per_min\n",
    "thresh_15m = 15 * speed_m_per_min\n",
    "thresh_20m = 20 * speed_m_per_min\n",
    "lengths = nx.single_source_dijkstra_path_length(\n",
    "    G_proj, source=origin, cutoff=thresh_20m, weight=\"length\"\n",
    ")\n",
    "\n",
    "# 到達ノード集合\n",
    "S5  = {n for n, d in lengths.items() if d <= thresh_5m}\n",
    "S10 = {n for n, d in lengths.items() if d <= thresh_10m}\n",
    "S15 = {n for n, d in lengths.items() if d <= thresh_15m}\n",
    "S20 = {n for n, d in lengths.items() if d <= thresh_20m}\n",
    "\n",
    "# --- 3) エッジ由来でポリゴン化 ---\n",
    "# 細め設定\n",
    "poly_5m  = iso_polygon_from_nodes(G_proj, S5, buffer_m=6,  simplify_m=3)\n",
    "poly_10m = iso_polygon_from_nodes(G_proj, S10, buffer_m=8, simplify_m=3)\n",
    "poly_15m = iso_polygon_from_nodes(G_proj, S15, buffer_m=10, simplify_m=4)\n",
    "poly_20m = iso_polygon_from_nodes(G_proj, S20, buffer_m=12, simplify_m=4)\n",
    "\n",
    "# --- 4) Folium 可視化 ---\n",
    "# レイヤ順：15 → 10 → 5（下から順に）\n",
    "m = get_base_map([lat, lon], zoom_start=16)\n",
    "add_poly(m, poly_20m, \"徒歩20分圏（~1,200 m）\", \"#a9a9a9\", fill_opacity=0.25)\n",
    "add_poly(m, poly_15m, \"徒歩15分圏（~8,490 m）\",  \"#4169e1\", fill_opacity=0.25)\n",
    "add_poly(m, poly_10m, \"徒歩10分圏（~5,660 m）\",  \"#32cd32\", fill_opacity=0.25)\n",
    "add_poly(m, poly_5m,  \"徒歩5分圏（~2,830 m）\",   \"#ff7f50\", fill_opacity=0.25)\n",
    "\n",
    "# 起点マーカー\n",
    "folium.Marker([lat, lon], icon=folium.Icon(color=\"red\"), tooltip=\"起点（J-PARCドミトリー）\").add_to(m)\n",
    "folium.LayerControl().add_to(m)\n",
    "\n",
    "for _lat, _lon, name in zip(df[\"lat\"], df[\"lon\"], df[\"name\"]):\n",
    "    folium.Marker(\n",
    "        [ _lat,  _lon],\n",
    "        icon=folium.Icon(color=\"cadetblue\", icon=\"cutlery\", prefix=\"fa\"),\n",
    "        tooltip=name,\n",
    "    ).add_to(m)"
   ]
  },
  {
   "cell_type": "code",
   "execution_count": 8,
   "id": "6ee159ec",
   "metadata": {},
   "outputs": [
    {
     "name": "stdout",
     "output_type": "stream",
     "text": [
      "jparc_10km_walk.html を出力しました。\n"
     ]
    }
   ],
   "source": [
    "m.save(f\"{output_file_name}.html\")\n",
    "print(f\"{output_file_name}.html を出力しました。\")"
   ]
  },
  {
   "cell_type": "code",
   "execution_count": null,
   "id": "6f7d511e",
   "metadata": {},
   "outputs": [],
   "source": []
  },
  {
   "cell_type": "code",
   "execution_count": null,
   "id": "56d4a132",
   "metadata": {},
   "outputs": [],
   "source": []
  }
 ],
 "metadata": {
  "kernelspec": {
   "display_name": "geo",
   "language": "python",
   "name": "geo"
  },
  "language_info": {
   "codemirror_mode": {
    "name": "ipython",
    "version": 3
   },
   "file_extension": ".py",
   "mimetype": "text/x-python",
   "name": "python",
   "nbconvert_exporter": "python",
   "pygments_lexer": "ipython3",
   "version": "3.11.14"
  }
 },
 "nbformat": 4,
 "nbformat_minor": 5
}
